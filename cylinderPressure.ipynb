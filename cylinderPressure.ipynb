{
 "cells": [
  {
   "cell_type": "code",
   "execution_count": 3,
   "metadata": {},
   "outputs": [],
   "source": [
    "#import pixiedust\n",
    "import pint\n",
    "import matplotlib.pyplot as plt\n",
    "import numpy as np\n",
    "u = pint.UnitRegistry()\n",
    "\n",
    "omega_0 = 3550 / u.second\n",
    "n       = 2\n",
    "r       = 0.1 * u.meter\n",
    "delta   = 0.001 * u.meter\n",
    "rho_f   = 10 * u.kg / u.meter**3\n",
    "rho     = 1000 * u.kg / u.meter**3\n",
    "p       = 1 * u.pascal\n",
    "E       = 1 * 10**8 * u.pascal\n",
    "sigma   = 0.3\n",
    "m       = 1\n",
    "L       = 0.3 * u.meter\n",
    "a_CO2   = 3.647 * u.bar * ( u.meter ** 3 / u.kilomole)\n",
    "b_CO2   = 0.0428 * u.meter**3 / u.kilomole\n",
    "a_N2   = 1.366 * u.bar * ( u.meter ** 3 / u.kilomole)\n",
    "b_N2   = 0.0386 * u.meter**3 / u.kilomole\n",
    "temperature = 293.15 * u.kelvin\n",
    "R_const = 8.3144598 * u.joule / u.mole / u.kelvin\n",
    "\n",
    "def density(mass, volume):\n",
    "    density = mass / volume\n",
    "    return density\n",
    "\n",
    "def P(mass,temperature,volume,mol_weight,a,b):\n",
    "    first = mass/mol_weight*R_const*temperature \n",
    "    second = (volume-mass/mol_weight*b)\n",
    "    third = a*mass**2/mol_weight**2/volume**2\n",
    "    p=first/second-third\n",
    "    return p\n",
    "\n",
    "def omega(\n",
    "    r,\n",
    "    L,\n",
    "    rho_f,\n",
    "    thickness,\n",
    "    p\n",
    "    ):\n",
    "    delta = thickness\n",
    "    first = (1+r*rho_f/n/delta/rho)**(-1)\n",
    "    second = 2*p/n**2/E*(r/delta)**3\n",
    "    third = (1-sigma**2)/((m*np.pi*r/n/L)**2+1)\n",
    "    omega = omega_0*(first*(1+second*third))**(0.5)\n",
    "    return omega\n",
    "\n",
    "def omega1(p):\n",
    "    return omega(\n",
    "    0.009 * u.meter,        # Radius of the middle surface\n",
    "    0.3 * u.meter,          # Length of cylinder\n",
    "    1 * u.kg / u.meter**3 , # fluid density\n",
    "    0.01 * u.meter ,        # cylinder thickness\n",
    "    p         )             # Internal pressure"
   ]
  },
  {
   "cell_type": "code",
   "execution_count": 4,
   "metadata": {
    "pixiedust": {
     "displayParams": {}
    }
   },
   "outputs": [
    {
     "data": {
      "image/png": "[encoded data removed]",
      "text/plain": [
       "<Figure size 432x288 with 1 Axes>"
      ]
     },
     "metadata": {
      "needs_background": "light"
     },
     "output_type": "display_data"
    }
   ],
   "source": [
    "#%%pixie_debugger\n",
    "pressure = np.linspace(0,100000000,101) * u.pascal\n",
    "omega2 = omega1(pressure)\n",
    "plt.xlabel(\"MPa\")\n",
    "plt.ylabel(\"$\\omega$ (1/s)\")\n",
    "plt.grid()\n",
    "plt.plot(pressure/1e6,omega2)\n",
    "plt.show()"
   ]
  },
  {
   "cell_type": "code",
   "execution_count": 5,
   "metadata": {},
   "outputs": [
    {
     "ename": "DimensionalityError",
     "evalue": "Cannot convert from 'joule * kilogram / gram / meter ** 3' ([mass] / [length] / [time] ** 2) to 'bar * kilogram ** 2 * mole ** 2 / gram ** 2 / kilomole / meter ** 3' ([mass] * [substance] / [length] ** 4 / [time] ** 2)",
     "output_type": "error",
     "traceback": [
      "\u001b[1;31m---------------------------------------------------------------------------\u001b[0m",
      "\u001b[1;31mDimensionalityError\u001b[0m                       Traceback (most recent call last)",
      "\u001b[1;32m<ipython-input-5-35497d2be262>\u001b[0m in \u001b[0;36m<module>\u001b[1;34m()\u001b[0m\n\u001b[1;32m----> 1\u001b[1;33m \u001b[0mP\u001b[0m\u001b[1;33m(\u001b[0m\u001b[1;36m2\u001b[0m\u001b[1;33m*\u001b[0m\u001b[0mu\u001b[0m\u001b[1;33m.\u001b[0m\u001b[0mkilogram\u001b[0m\u001b[1;33m,\u001b[0m\u001b[0mtemperature\u001b[0m\u001b[1;33m,\u001b[0m\u001b[1;36m1\u001b[0m\u001b[1;33m*\u001b[0m\u001b[0mu\u001b[0m\u001b[1;33m.\u001b[0m\u001b[0mmeter\u001b[0m\u001b[1;33m**\u001b[0m\u001b[1;36m3\u001b[0m\u001b[1;33m,\u001b[0m\u001b[1;36m14\u001b[0m \u001b[1;33m*\u001b[0m \u001b[0mu\u001b[0m\u001b[1;33m.\u001b[0m\u001b[0mgram\u001b[0m \u001b[1;33m/\u001b[0m \u001b[0mu\u001b[0m\u001b[1;33m.\u001b[0m\u001b[0mmole\u001b[0m\u001b[1;33m,\u001b[0m\u001b[0ma_N2\u001b[0m\u001b[1;33m,\u001b[0m\u001b[0mb_N2\u001b[0m\u001b[1;33m)\u001b[0m\u001b[1;33m\u001b[0m\u001b[0m\n\u001b[0m",
      "\u001b[1;32m<ipython-input-3-d11437277896>\u001b[0m in \u001b[0;36mP\u001b[1;34m(mass, temperature, volume, mol_weight, a, b)\u001b[0m\n\u001b[0;32m     31\u001b[0m     \u001b[0msecond\u001b[0m \u001b[1;33m=\u001b[0m \u001b[1;33m(\u001b[0m\u001b[0mvolume\u001b[0m\u001b[1;33m-\u001b[0m\u001b[0mmass\u001b[0m\u001b[1;33m/\u001b[0m\u001b[0mmol_weight\u001b[0m\u001b[1;33m*\u001b[0m\u001b[0mb\u001b[0m\u001b[1;33m)\u001b[0m\u001b[1;33m\u001b[0m\u001b[0m\n\u001b[0;32m     32\u001b[0m     \u001b[0mthird\u001b[0m \u001b[1;33m=\u001b[0m \u001b[0ma\u001b[0m\u001b[1;33m*\u001b[0m\u001b[0mmass\u001b[0m\u001b[1;33m**\u001b[0m\u001b[1;36m2\u001b[0m\u001b[1;33m/\u001b[0m\u001b[0mmol_weight\u001b[0m\u001b[1;33m**\u001b[0m\u001b[1;36m2\u001b[0m\u001b[1;33m/\u001b[0m\u001b[0mvolume\u001b[0m\u001b[1;33m**\u001b[0m\u001b[1;36m2\u001b[0m\u001b[1;33m\u001b[0m\u001b[0m\n\u001b[1;32m---> 33\u001b[1;33m     \u001b[0mp\u001b[0m\u001b[1;33m=\u001b[0m\u001b[0mfirst\u001b[0m\u001b[1;33m/\u001b[0m\u001b[0msecond\u001b[0m\u001b[1;33m-\u001b[0m\u001b[0mthird\u001b[0m\u001b[1;33m\u001b[0m\u001b[0m\n\u001b[0m\u001b[0;32m     34\u001b[0m     \u001b[1;32mreturn\u001b[0m \u001b[0mp\u001b[0m\u001b[1;33m\u001b[0m\u001b[0m\n\u001b[0;32m     35\u001b[0m \u001b[1;33m\u001b[0m\u001b[0m\n",
      "\u001b[1;32mC:\\ProgramData\\Anaconda3\\lib\\site-packages\\pint\\quantity.py\u001b[0m in \u001b[0;36m__sub__\u001b[1;34m(self, other)\u001b[0m\n\u001b[0;32m    678\u001b[0m \u001b[1;33m\u001b[0m\u001b[0m\n\u001b[0;32m    679\u001b[0m     \u001b[1;32mdef\u001b[0m \u001b[0m__sub__\u001b[0m\u001b[1;33m(\u001b[0m\u001b[0mself\u001b[0m\u001b[1;33m,\u001b[0m \u001b[0mother\u001b[0m\u001b[1;33m)\u001b[0m\u001b[1;33m:\u001b[0m\u001b[1;33m\u001b[0m\u001b[0m\n\u001b[1;32m--> 680\u001b[1;33m         \u001b[1;32mreturn\u001b[0m \u001b[0mself\u001b[0m\u001b[1;33m.\u001b[0m\u001b[0m_add_sub\u001b[0m\u001b[1;33m(\u001b[0m\u001b[0mother\u001b[0m\u001b[1;33m,\u001b[0m \u001b[0moperator\u001b[0m\u001b[1;33m.\u001b[0m\u001b[0msub\u001b[0m\u001b[1;33m)\u001b[0m\u001b[1;33m\u001b[0m\u001b[0m\n\u001b[0m\u001b[0;32m    681\u001b[0m \u001b[1;33m\u001b[0m\u001b[0m\n\u001b[0;32m    682\u001b[0m     \u001b[1;32mdef\u001b[0m \u001b[0m__rsub__\u001b[0m\u001b[1;33m(\u001b[0m\u001b[0mself\u001b[0m\u001b[1;33m,\u001b[0m \u001b[0mother\u001b[0m\u001b[1;33m)\u001b[0m\u001b[1;33m:\u001b[0m\u001b[1;33m\u001b[0m\u001b[0m\n",
      "\u001b[1;32mC:\\ProgramData\\Anaconda3\\lib\\site-packages\\pint\\quantity.py\u001b[0m in \u001b[0;36m_add_sub\u001b[1;34m(self, other, op)\u001b[0m\n\u001b[0;32m    584\u001b[0m             raise DimensionalityError(self._units, other._units,\n\u001b[0;32m    585\u001b[0m                                       \u001b[0mself\u001b[0m\u001b[1;33m.\u001b[0m\u001b[0mdimensionality\u001b[0m\u001b[1;33m,\u001b[0m\u001b[1;33m\u001b[0m\u001b[0m\n\u001b[1;32m--> 586\u001b[1;33m                                       other.dimensionality)\n\u001b[0m\u001b[0;32m    587\u001b[0m \u001b[1;33m\u001b[0m\u001b[0m\n\u001b[0;32m    588\u001b[0m         \u001b[1;31m# Next we define some variables to make if-clauses more readable.\u001b[0m\u001b[1;33m\u001b[0m\u001b[1;33m\u001b[0m\u001b[0m\n",
      "\u001b[1;31mDimensionalityError\u001b[0m: Cannot convert from 'joule * kilogram / gram / meter ** 3' ([mass] / [length] / [time] ** 2) to 'bar * kilogram ** 2 * mole ** 2 / gram ** 2 / kilomole / meter ** 3' ([mass] * [substance] / [length] ** 4 / [time] ** 2)"
     ]
    }
   ],
   "source": [
    "P(2*u.kilogram,temperature,1*u.meter**3,14 * u.gram / u.mole,a_N2,b_N2)"
   ]
  },
  {
   "cell_type": "code",
   "execution_count": null,
   "metadata": {},
   "outputs": [],
   "source": []
  }
 ],
 "metadata": {
  "kernelspec": {
   "display_name": "Python 3",
   "language": "python",
   "name": "python3"
  },
  "language_info": {
   "codemirror_mode": {
    "name": "ipython",
    "version": 3
   },
   "file_extension": ".py",
   "mimetype": "text/x-python",
   "name": "python",
   "nbconvert_exporter": "python",
   "pygments_lexer": "ipython3",
   "version": "3.7.0"
  }
 },
 "nbformat": 4,
 "nbformat_minor": 2
}
