{
 "cells": [
  {
   "cell_type": "code",
   "execution_count": 1,
   "metadata": {},
   "outputs": [
    {
     "name": "stderr",
     "output_type": "stream",
     "text": [
      "C:\\ProgramData\\Anaconda3\\lib\\site-packages\\ipykernel\\parentpoller.py:116: UserWarning: Parent poll failed.  If the frontend dies,\n",
      "                the kernel may be left running.  Please let us know\n",
      "                about your system (bitness, Python, etc.) at\n",
      "                ipython-dev@scipy.org\n",
      "  ipython-dev@scipy.org\"\"\")\n"
     ]
    }
   ],
   "source": [
    "import serial"
   ]
  },
  {
   "cell_type": "code",
   "execution_count": 2,
   "metadata": {},
   "outputs": [],
   "source": [
    "ser = serial.Serial('COM11', baudrate = 9600,)"
   ]
  },
  {
   "cell_type": "code",
   "execution_count": null,
   "metadata": {},
   "outputs": [
    {
     "name": "stdout",
     "output_type": "stream",
     "text": [
      "1937.52\n",
      "\n",
      "1937.85\n",
      "\n",
      "1937.75\n",
      "\n",
      "1937.72\n",
      "\n",
      "1937.61\n",
      "\n",
      "1937.77\n",
      "\n",
      "1937.88\n",
      "\n",
      "1938.04\n",
      "\n",
      "1937.59\n",
      "\n",
      "1938.86\n",
      "\n",
      "1938.86\n",
      "\n",
      "1940.06\n",
      "\n",
      "1937.81\n",
      "\n",
      "1937.69\n",
      "\n",
      "1937.45\n",
      "\n",
      "1937.54\n",
      "\n",
      "1937.70\n",
      "\n",
      "1937.79\n",
      "\n",
      "1937.70\n",
      "\n",
      "1938.20\n",
      "\n",
      "1939.40\n",
      "\n",
      "1940.18\n",
      "\n"
     ]
    }
   ],
   "source": [
    "while 1:\n",
    "    data = ser.readline().decode('ascii')\n",
    "    print(data)"
   ]
  },
  {
   "cell_type": "code",
   "execution_count": 1,
   "metadata": {},
   "outputs": [
    {
     "data": {
      "text/plain": [
       "4"
      ]
     },
     "execution_count": 1,
     "metadata": {},
     "output_type": "execute_result"
    }
   ],
   "source": [
    "2+2"
   ]
  },
  {
   "cell_type": "code",
   "execution_count": null,
   "metadata": {},
   "outputs": [],
   "source": []
  }
 ],
 "metadata": {
  "kernelspec": {
   "display_name": "Python 3",
   "language": "python",
   "name": "python3"
  },
  "language_info": {
   "codemirror_mode": {
    "name": "ipython",
    "version": 3
   },
   "file_extension": ".py",
   "mimetype": "text/x-python",
   "name": "python",
   "nbconvert_exporter": "python",
   "pygments_lexer": "ipython3",
   "version": "3.7.0"
  }
 },
 "nbformat": 4,
 "nbformat_minor": 2
}
