{
 "cells": [
  {
   "cell_type": "code",
   "execution_count": 22,
   "metadata": {},
   "outputs": [],
   "source": [
    "import pint\n",
    "import numpy as np\n",
    "u = pint.UnitRegistry()\n",
    "\n",
    "p = 1800 * u.psi\n",
    "r = 5 * u.centimeter\n",
    "b = 5 * u.millimeter\n",
    "E = 200 * u.gigapascal\n",
    "neu = 0.3\n",
    "\n",
    "def delta_r(p,r,b,E,neu):\n",
    "    deltar = (p*r**2)/(b*E)*(1-neu/2)\n",
    "    deltar.ito(u.micrometer)\n",
    "    return deltar"
   ]
  },
  {
   "cell_type": "code",
   "execution_count": 23,
   "metadata": {},
   "outputs": [],
   "source": [
    "dR = delta_r(p,r,b,E,neu)\n",
    "dC = 2 * np.pi * dR"
   ]
  },
  {
   "cell_type": "code",
   "execution_count": 24,
   "metadata": {},
   "outputs": [
    {
     "name": "stdout",
     "output_type": "stream",
     "text": [
      "26.37 micrometer 165.7 micrometer\n"
     ]
    }
   ],
   "source": [
    "print(round(dR,2),round(dC,2))"
   ]
  },
  {
   "cell_type": "code",
   "execution_count": null,
   "metadata": {},
   "outputs": [],
   "source": []
  }
 ],
 "metadata": {
  "kernelspec": {
   "display_name": "Python 3",
   "language": "python",
   "name": "python3"
  },
  "language_info": {
   "codemirror_mode": {
    "name": "ipython",
    "version": 3
   },
   "file_extension": ".py",
   "mimetype": "text/x-python",
   "name": "python",
   "nbconvert_exporter": "python",
   "pygments_lexer": "ipython3",
   "version": "3.6.5"
  }
 },
 "nbformat": 4,
 "nbformat_minor": 2
}
